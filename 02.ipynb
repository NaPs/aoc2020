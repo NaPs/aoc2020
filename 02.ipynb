{
 "cells": [
  {
   "cell_type": "markdown",
   "metadata": {},
   "source": [
    "# Stage 1"
   ]
  },
  {
   "cell_type": "code",
   "execution_count": 3,
   "metadata": {},
   "outputs": [],
   "source": [
    "import re"
   ]
  },
  {
   "cell_type": "code",
   "execution_count": 4,
   "metadata": {},
   "outputs": [],
   "source": [
    "inp = open('02.txt').read()"
   ]
  },
  {
   "cell_type": "code",
   "execution_count": 6,
   "metadata": {},
   "outputs": [
    {
     "data": {
      "text/plain": [
       "519"
      ]
     },
     "execution_count": 6,
     "metadata": {},
     "output_type": "execute_result"
    }
   ],
   "source": [
    "def stage1(inp):\n",
    "    for line in [x for x in inp.split('\\n')]:\n",
    "        m = re.match(r'^(?P<min>\\d+)-(?P<max>\\d+) (?P<char>.): (?P<pass>.+)$', line)\n",
    "        if int(m.group('min')) <= m.group('pass').count(m.group('char')) <= int(m.group('max')):\n",
    "            yield line\n",
    "len(list(stage1(inp)))"
   ]
  },
  {
   "cell_type": "markdown",
   "metadata": {},
   "source": [
    "# Stage 2"
   ]
  },
  {
   "cell_type": "code",
   "execution_count": 7,
   "metadata": {},
   "outputs": [
    {
     "data": {
      "text/plain": [
       "708"
      ]
     },
     "execution_count": 7,
     "metadata": {},
     "output_type": "execute_result"
    }
   ],
   "source": [
    "def stage2(inp):\n",
    "    for line in [x for x in inp.split('\\n')]:\n",
    "        m = re.match(r'^(?P<min>\\d+)-(?P<max>\\d+) (?P<char>.): (?P<pass>.+)$', line)\n",
    "        p = m.group('pass')\n",
    "        try:\n",
    "            if p[int(m.group('min')) - 1] == m.group('char') and p[int(m.group('max')) - 1] != m.group('char') or p[int(m.group('min')) - 1] != m.group('char') and p[int(m.group('max')) - 1] == m.group('char'):\n",
    "                yield line\n",
    "        except:\n",
    "            pass\n",
    "len(list(stage2(inp)))\n"
   ]
  },
  {
   "cell_type": "code",
   "execution_count": null,
   "metadata": {},
   "outputs": [],
   "source": []
  }
 ],
 "metadata": {
  "kernelspec": {
   "display_name": "Python 3",
   "language": "python",
   "name": "python3"
  },
  "language_info": {
   "codemirror_mode": {
    "name": "ipython",
    "version": 3
   },
   "file_extension": ".py",
   "mimetype": "text/x-python",
   "name": "python",
   "nbconvert_exporter": "python",
   "pygments_lexer": "ipython3",
   "version": "3.8.6"
  }
 },
 "nbformat": 4,
 "nbformat_minor": 4
}
