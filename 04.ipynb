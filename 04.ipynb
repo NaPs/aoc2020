{
 "cells": [
  {
   "cell_type": "markdown",
   "metadata": {},
   "source": [
    "# Stage 1"
   ]
  },
  {
   "cell_type": "code",
   "execution_count": 11,
   "metadata": {},
   "outputs": [],
   "source": [
    "FIELDS = set(('byr', 'iyr', 'eyr', 'hgt', 'hcl', 'ecl', 'pid'))"
   ]
  },
  {
   "cell_type": "code",
   "execution_count": 2,
   "metadata": {},
   "outputs": [],
   "source": [
    "f = open('04.txt').read()"
   ]
  },
  {
   "cell_type": "code",
   "execution_count": 9,
   "metadata": {},
   "outputs": [],
   "source": [
    "passports = [dict(y.split(':') for y in x.split()) for x in f.split('\\n\\n')]"
   ]
  },
  {
   "cell_type": "code",
   "execution_count": 12,
   "metadata": {},
   "outputs": [
    {
     "name": "stdout",
     "output_type": "stream",
     "text": [
      "192\n"
     ]
    }
   ],
   "source": [
    "count = 0\n",
    "for passport in passports:\n",
    "    fields = set(passport)\n",
    "    fields.discard('cid')\n",
    "    if fields == FIELDS:\n",
    "        count += 1\n",
    "print(count)"
   ]
  },
  {
   "cell_type": "markdown",
   "metadata": {},
   "source": [
    "# Stage 2"
   ]
  },
  {
   "cell_type": "code",
   "execution_count": 15,
   "metadata": {},
   "outputs": [],
   "source": [
    "import re"
   ]
  },
  {
   "cell_type": "code",
   "execution_count": 17,
   "metadata": {},
   "outputs": [
    {
     "name": "stdout",
     "output_type": "stream",
     "text": [
      "101\n"
     ]
    }
   ],
   "source": [
    "count = 0\n",
    "for passport in passports:\n",
    "    fields = set(passport)\n",
    "    fields.discard('cid')\n",
    "    if fields == FIELDS:\n",
    "        if all((1920 <= int(passport['byr']) <= 2002,\n",
    "                2010 <= int(passport['iyr']) <= 2020,\n",
    "                2020 <= int(passport['eyr']) <= 2030,\n",
    "                re.match(r'^#[0-9a-f]{6}$', passport['hcl']),\n",
    "                passport['ecl'] in ('amb', 'blu', 'brn', 'gry', 'grn', 'hzl', 'oth'),\n",
    "                re.match(r'^[0-9]{9}$', passport['pid']))):\n",
    "            if (passport['hgt'].endswith('cm') and 150 <= int(passport['hgt'][:-2]) <= 193) or (passport['hgt'].endswith('in') and 59 <= int(passport['hgt'][:-2]) <= 76):\n",
    "               count += 1\n",
    "print(count)"
   ]
  }
 ],
 "metadata": {
  "kernelspec": {
   "display_name": "Python 3",
   "language": "python",
   "name": "python3"
  },
  "language_info": {
   "codemirror_mode": {
    "name": "ipython",
    "version": 3
   },
   "file_extension": ".py",
   "mimetype": "text/x-python",
   "name": "python",
   "nbconvert_exporter": "python",
   "pygments_lexer": "ipython3",
   "version": "3.8.6"
  }
 },
 "nbformat": 4,
 "nbformat_minor": 4
}
