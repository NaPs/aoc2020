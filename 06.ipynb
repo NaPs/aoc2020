{
 "cells": [
  {
   "cell_type": "markdown",
   "metadata": {},
   "source": [
    "# Stage 1"
   ]
  },
  {
   "cell_type": "code",
   "execution_count": 1,
   "metadata": {},
   "outputs": [],
   "source": [
    "f = open('06.txt').read().split('\\n\\n')"
   ]
  },
  {
   "cell_type": "code",
   "execution_count": 2,
   "metadata": {},
   "outputs": [],
   "source": [
    "qg = [x.split() for x in f]"
   ]
  },
  {
   "cell_type": "code",
   "execution_count": 3,
   "metadata": {},
   "outputs": [
    {
     "name": "stdout",
     "output_type": "stream",
     "text": [
      "6161\n"
     ]
    }
   ],
   "source": [
    "gc = 0\n",
    "import collections\n",
    "for g in qg:\n",
    "    s = collections.defaultdict(lambda: 0)\n",
    "    for gg in g:\n",
    "        for ggg in gg:\n",
    "            s[ggg] += 1\n",
    "    gc += len(s)\n",
    "    \n",
    "print(gc)"
   ]
  },
  {
   "cell_type": "markdown",
   "metadata": {},
   "source": [
    "# Stage 2"
   ]
  },
  {
   "cell_type": "code",
   "execution_count": 4,
   "metadata": {},
   "outputs": [
    {
     "name": "stdout",
     "output_type": "stream",
     "text": [
      "2971\n"
     ]
    }
   ],
   "source": [
    "gc = 0\n",
    "import collections\n",
    "for g in qg:\n",
    "    s = collections.defaultdict(lambda: 0)\n",
    "    for gg in g:\n",
    "        for ggg in gg:\n",
    "            s[ggg] += 1\n",
    "    gc += len([k for k, v in s.items() if v == len(g)])\n",
    "    \n",
    "print(gc)"
   ]
  },
  {
   "cell_type": "code",
   "execution_count": null,
   "metadata": {},
   "outputs": [],
   "source": []
  }
 ],
 "metadata": {
  "kernelspec": {
   "display_name": "Python 3",
   "language": "python",
   "name": "python3"
  },
  "language_info": {
   "codemirror_mode": {
    "name": "ipython",
    "version": 3
   },
   "file_extension": ".py",
   "mimetype": "text/x-python",
   "name": "python",
   "nbconvert_exporter": "python",
   "pygments_lexer": "ipython3",
   "version": "3.8.6"
  }
 },
 "nbformat": 4,
 "nbformat_minor": 4
}
