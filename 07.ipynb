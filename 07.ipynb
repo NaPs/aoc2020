{
 "cells": [
  {
   "cell_type": "markdown",
   "metadata": {},
   "source": [
    "# Stage 1"
   ]
  },
  {
   "cell_type": "code",
   "execution_count": 1,
   "metadata": {},
   "outputs": [],
   "source": [
    "import re"
   ]
  },
  {
   "cell_type": "code",
   "execution_count": 2,
   "metadata": {},
   "outputs": [],
   "source": [
    "f = open('07.txt').read().split('\\n')"
   ]
  },
  {
   "cell_type": "code",
   "execution_count": 3,
   "metadata": {},
   "outputs": [],
   "source": [
    "ruleset = {}\n",
    "for rule in f:\n",
    "    m = re.match('^(\\w+ \\w+) bags contain (.+)$', rule)\n",
    "    src = m.group(1)\n",
    "    bags = m.group(2)\n",
    "    mb = re.findall('(\\d+) (\\w+ \\w+) bags?', bags)\n",
    "    ruleset[src] = {x[1]: int(x[0]) for x in mb}"
   ]
  },
  {
   "cell_type": "code",
   "execution_count": 4,
   "metadata": {},
   "outputs": [
    {
     "data": {
      "text/plain": [
       "115"
      ]
     },
     "execution_count": 4,
     "metadata": {},
     "output_type": "execute_result"
    }
   ],
   "source": [
    " def has_shiny_gold(color):\n",
    "    bags = ruleset[color]\n",
    "    out = set()\n",
    "    for c, _ in bags.items():\n",
    "        if c == 'shiny gold':\n",
    "            out.add(color)\n",
    "        else:\n",
    "            out |= has_shiny_gold(c)\n",
    "    return out\n",
    "\n",
    "len([True for x in ruleset if has_shiny_gold(x)])"
   ]
  },
  {
   "cell_type": "markdown",
   "metadata": {},
   "source": [
    "# Stage 2"
   ]
  },
  {
   "cell_type": "code",
   "execution_count": 6,
   "metadata": {},
   "outputs": [
    {
     "data": {
      "text/plain": [
       "1250"
      ]
     },
     "execution_count": 6,
     "metadata": {},
     "output_type": "execute_result"
    }
   ],
   "source": [
    " def count(color):\n",
    "    bags = ruleset[color]\n",
    "    co = sum(v for v in bags.values())\n",
    "    for c, l in bags.items():\n",
    "        sub = count(c)\n",
    "        if sub:\n",
    "            co += l * sub\n",
    "    return co\n",
    "\n",
    "count('shiny gold')"
   ]
  }
 ],
 "metadata": {
  "kernelspec": {
   "display_name": "Python 3",
   "language": "python",
   "name": "python3"
  },
  "language_info": {
   "codemirror_mode": {
    "name": "ipython",
    "version": 3
   },
   "file_extension": ".py",
   "mimetype": "text/x-python",
   "name": "python",
   "nbconvert_exporter": "python",
   "pygments_lexer": "ipython3",
   "version": "3.8.6"
  }
 },
 "nbformat": 4,
 "nbformat_minor": 4
}
