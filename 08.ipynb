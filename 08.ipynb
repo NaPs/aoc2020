{
 "cells": [
  {
   "cell_type": "markdown",
   "metadata": {},
   "source": [
    "# Stage 1"
   ]
  },
  {
   "cell_type": "code",
   "execution_count": 1,
   "metadata": {},
   "outputs": [],
   "source": [
    "f = open('08.txt').read().strip().split('\\n')"
   ]
  },
  {
   "cell_type": "code",
   "execution_count": 2,
   "metadata": {},
   "outputs": [],
   "source": [
    "instructions = [x.split() for x in f]"
   ]
  },
  {
   "cell_type": "code",
   "execution_count": 3,
   "metadata": {},
   "outputs": [
    {
     "name": "stdout",
     "output_type": "stream",
     "text": [
      "1782\n"
     ]
    }
   ],
   "source": [
    "acc = 0\n",
    "pc = 0\n",
    "visited = set()\n",
    "\n",
    "while pc not in visited:\n",
    "    visited.add(pc)\n",
    "    inst, data = instructions[pc]\n",
    "    if inst == 'jmp':\n",
    "        pc += int(data)\n",
    "    else:\n",
    "        pc += 1\n",
    "        if inst == 'acc':\n",
    "            acc += int(data)\n",
    "\n",
    "print(acc)"
   ]
  },
  {
   "cell_type": "markdown",
   "metadata": {},
   "source": [
    "# Stage 2"
   ]
  },
  {
   "cell_type": "code",
   "execution_count": 4,
   "metadata": {},
   "outputs": [
    {
     "name": "stdout",
     "output_type": "stream",
     "text": [
      "797\n"
     ]
    }
   ],
   "source": [
    "def run(nth_replace):\n",
    "    acc = 0\n",
    "    pc = 0\n",
    "    visited = set()\n",
    "\n",
    "    while pc < len(instructions):\n",
    "        if pc in visited:\n",
    "            raise RuntimeError('Infinite loop detected')\n",
    "        visited.add(pc)\n",
    "        inst, data = instructions[pc]\n",
    "        if pc == nth_replace:\n",
    "            if inst == 'jmp':\n",
    "                inst = 'nop'\n",
    "            elif inst == 'nop':\n",
    "                inst = 'jmp'\n",
    "            else:\n",
    "                raise RuntimeError('Ignoring acc')\n",
    "        if inst == 'jmp':\n",
    "            pc += int(data)\n",
    "        else:\n",
    "            pc += 1\n",
    "            if inst == 'acc':\n",
    "                acc += int(data)\n",
    "    return acc\n",
    "\n",
    "for i in range(len(instructions)):\n",
    "    try:\n",
    "        print(run(i))\n",
    "    except RuntimeError:\n",
    "        pass\n",
    "    else:\n",
    "        break"
   ]
  }
 ],
 "metadata": {
  "kernelspec": {
   "display_name": "Python 3",
   "language": "python",
   "name": "python3"
  },
  "language_info": {
   "codemirror_mode": {
    "name": "ipython",
    "version": 3
   },
   "file_extension": ".py",
   "mimetype": "text/x-python",
   "name": "python",
   "nbconvert_exporter": "python",
   "pygments_lexer": "ipython3",
   "version": "3.8.6"
  }
 },
 "nbformat": 4,
 "nbformat_minor": 4
}
