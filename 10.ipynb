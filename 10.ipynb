{
 "cells": [
  {
   "cell_type": "markdown",
   "metadata": {},
   "source": [
    "# Stage 1"
   ]
  },
  {
   "cell_type": "code",
   "execution_count": 1,
   "metadata": {},
   "outputs": [],
   "source": [
    "f = open('10.txt').read().strip().split('\\n')"
   ]
  },
  {
   "cell_type": "code",
   "execution_count": 2,
   "metadata": {},
   "outputs": [],
   "source": [
    "numbers = [int(x) for x in f]\n",
    "numbers.sort()"
   ]
  },
  {
   "cell_type": "code",
   "execution_count": 3,
   "metadata": {},
   "outputs": [
    {
     "name": "stdout",
     "output_type": "stream",
     "text": [
      "2574\n"
     ]
    }
   ],
   "source": [
    "from collections import defaultdict\n",
    "diffs = defaultdict(int)\n",
    "last = 0\n",
    "for n in numbers:\n",
    "    diffs[n - last] += 1\n",
    "    last = n\n",
    "diffs[3] += 1\n",
    "\n",
    "print(diffs[1] * diffs[3])"
   ]
  },
  {
   "cell_type": "markdown",
   "metadata": {},
   "source": [
    "# Stage 2"
   ]
  },
  {
   "cell_type": "code",
   "execution_count": 4,
   "metadata": {},
   "outputs": [],
   "source": [
    "# Naive recursive algo; takes too long time with full input\n",
    "#def walk(n):\n",
    "#    if n >= numbers[-1]:\n",
    "#        yield n + 3\n",
    "#    for i in range(1, 4):\n",
    "#        if n + i in numbers:\n",
    "#            yield from walk(n + i)\n",
    "\n",
    "#len(list(walk(0)))"
   ]
  },
  {
   "cell_type": "code",
   "execution_count": 5,
   "metadata": {},
   "outputs": [
    {
     "name": "stdout",
     "output_type": "stream",
     "text": [
      "2644613988352\n"
     ]
    }
   ],
   "source": [
    "from collections import defaultdict\n",
    "acc = defaultdict(int)\n",
    "acc[0] = 1\n",
    "for n in numbers:\n",
    "    acc[n] = acc[n-1] + acc[n-2] + acc[n-3]\n",
    "print(max(acc.values()))"
   ]
  }
 ],
 "metadata": {
  "kernelspec": {
   "display_name": "Python 3",
   "language": "python",
   "name": "python3"
  },
  "language_info": {
   "codemirror_mode": {
    "name": "ipython",
    "version": 3
   },
   "file_extension": ".py",
   "mimetype": "text/x-python",
   "name": "python",
   "nbconvert_exporter": "python",
   "pygments_lexer": "ipython3",
   "version": "3.8.6"
  }
 },
 "nbformat": 4,
 "nbformat_minor": 4
}
