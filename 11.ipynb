{
 "cells": [
  {
   "cell_type": "markdown",
   "metadata": {},
   "source": [
    "# Stage 1"
   ]
  },
  {
   "cell_type": "code",
   "execution_count": null,
   "metadata": {},
   "outputs": [],
   "source": [
    "import itertools"
   ]
  },
  {
   "cell_type": "code",
   "execution_count": 2,
   "metadata": {},
   "outputs": [],
   "source": [
    "f = open('11.txt').read().strip().split('\\n')"
   ]
  },
  {
   "cell_type": "code",
   "execution_count": 3,
   "metadata": {},
   "outputs": [],
   "source": [
    "SEATS = {(x, y): v for y, l in enumerate(f) for x, v in enumerate(l)}"
   ]
  },
  {
   "cell_type": "code",
   "execution_count": 4,
   "metadata": {},
   "outputs": [
    {
     "data": {
      "text/plain": [
       "2359"
      ]
     },
     "execution_count": 4,
     "metadata": {},
     "output_type": "execute_result"
    }
   ],
   "source": [
    "def run(seats, func):\n",
    "    for i in range(1, 100):\n",
    "        new_seats = {(x, y): func(seats, x, y) for x, y in seats}\n",
    "        if new_seats == seats:\n",
    "            break\n",
    "        seats = new_seats\n",
    "\n",
    "    return list(seats.values()).count('#')\n",
    "\n",
    "def stage1(s, x, y):\n",
    "    v = s[(x, y)]\n",
    "    neighbors = [s.get((x + dx, y + dy), '.') for dx, dy in itertools.product((-1, 0, 1), repeat=2) if dx or dy]\n",
    "    if v == 'L' and neighbors.count('#') == 0:\n",
    "        return '#'\n",
    "    elif v == '#' and neighbors.count('#') >= 4:\n",
    "        return 'L'\n",
    "    else:\n",
    "        return v\n",
    "\n",
    "run(SEATS.copy(), stage1)"
   ]
  },
  {
   "cell_type": "markdown",
   "metadata": {},
   "source": [
    "# Stage 2"
   ]
  },
  {
   "cell_type": "code",
   "execution_count": 5,
   "metadata": {},
   "outputs": [
    {
     "data": {
      "text/plain": [
       "2131"
      ]
     },
     "execution_count": 5,
     "metadata": {},
     "output_type": "execute_result"
    }
   ],
   "source": [
    "def stage2(s, x, y):\n",
    "    v = s[(x, y)]\n",
    "    n_coordinates = [(nx, ny) for nx, ny in itertools.product((-1, 0, 1), repeat=2) if nx or ny]\n",
    "    neighbors = []\n",
    "    for move_x, move_y in n_coordinates:\n",
    "        nx, ny = x, y\n",
    "        while True:\n",
    "            nx += move_x\n",
    "            ny += move_y\n",
    "            \n",
    "            try:\n",
    "                nv = s[nx, ny]\n",
    "            except KeyError:\n",
    "                break\n",
    "\n",
    "            if nv in '#L':\n",
    "                neighbors.append(nv)\n",
    "                break\n",
    "        \n",
    "    if v == 'L' and neighbors.count('#') == 0:\n",
    "        return '#'\n",
    "    elif v == '#' and neighbors.count('#') >= 5:\n",
    "        return 'L'\n",
    "    else:\n",
    "        return v\n",
    "\n",
    "run(SEATS.copy(), stage2)"
   ]
  }
 ],
 "metadata": {
  "kernelspec": {
   "display_name": "Python 3",
   "language": "python",
   "name": "python3"
  },
  "language_info": {
   "codemirror_mode": {
    "name": "ipython",
    "version": 3
   },
   "file_extension": ".py",
   "mimetype": "text/x-python",
   "name": "python",
   "nbconvert_exporter": "python",
   "pygments_lexer": "ipython3",
   "version": "3.8.6"
  }
 },
 "nbformat": 4,
 "nbformat_minor": 4
}
