{
 "cells": [
  {
   "cell_type": "markdown",
   "metadata": {},
   "source": [
    "# Stage 1"
   ]
  },
  {
   "cell_type": "code",
   "execution_count": 1,
   "metadata": {},
   "outputs": [],
   "source": [
    "import itertools\n",
    "from collections import defaultdict"
   ]
  },
  {
   "cell_type": "code",
   "execution_count": 2,
   "metadata": {},
   "outputs": [],
   "source": [
    "f = open('12.txt').read().strip().split('\\n')"
   ]
  },
  {
   "cell_type": "code",
   "execution_count": 3,
   "metadata": {},
   "outputs": [],
   "source": [
    "DIRS = {'N': 0, 'E': 90, 'S': 180, 'W': 270}"
   ]
  },
  {
   "cell_type": "code",
   "execution_count": 4,
   "metadata": {},
   "outputs": [],
   "source": [
    "def wrap(v):\n",
    "    v %= 360\n",
    "    return 360 - v if v < 0 else v"
   ]
  },
  {
   "cell_type": "code",
   "execution_count": 5,
   "metadata": {},
   "outputs": [
    {
     "name": "stdout",
     "output_type": "stream",
     "text": [
      "1186\n"
     ]
    }
   ],
   "source": [
    "direction = 90\n",
    "x = 0\n",
    "y = 0\n",
    "\n",
    "for line in f:\n",
    "    inst, value = line[0], int(line[1:])\n",
    "\n",
    "    if inst == 'N':\n",
    "        y += value\n",
    "    elif inst == 'S':\n",
    "        y -= value\n",
    "    elif inst == 'E':\n",
    "        x += value\n",
    "    elif inst == 'W':\n",
    "        x -= value\n",
    "    elif inst == 'L':\n",
    "        direction = wrap(direction - value)\n",
    "    elif inst == 'R':\n",
    "        direction = wrap(direction + value)\n",
    "    elif inst == 'F':\n",
    "        if direction == 0:\n",
    "            y += value\n",
    "        elif direction == 90:\n",
    "            x += value\n",
    "        elif direction == 180:\n",
    "            y -= value\n",
    "        elif direction == 270:\n",
    "            x -= value\n",
    "\n",
    "print(abs(x) + abs(y))"
   ]
  },
  {
   "cell_type": "markdown",
   "metadata": {},
   "source": [
    "# Stage 2"
   ]
  },
  {
   "cell_type": "code",
   "execution_count": 6,
   "metadata": {},
   "outputs": [
    {
     "name": "stdout",
     "output_type": "stream",
     "text": [
      "47806\n"
     ]
    }
   ],
   "source": [
    "x = 0\n",
    "y = 0\n",
    "wpx = 10\n",
    "wpy = 1\n",
    "\n",
    "for line in f:\n",
    "    inst, value = line[0], int(line[1:])\n",
    "\n",
    "    if inst == 'N':\n",
    "        wpy += value\n",
    "    elif inst == 'S':\n",
    "        wpy -= value\n",
    "    elif inst == 'E':\n",
    "        wpx += value\n",
    "    elif inst == 'W':\n",
    "        wpx -= value\n",
    "    elif inst == 'R':\n",
    "        if value == 90:\n",
    "            wpx, wpy = wpy, -wpx\n",
    "        elif value == 180:\n",
    "            wpx, wpy = -wpx, -wpy\n",
    "        elif value == 270:\n",
    "            wpx, wpy = -wpy, wpx\n",
    "    elif inst == 'L':\n",
    "        if value == 90:\n",
    "            wpx, wpy = -wpy, wpx\n",
    "        elif value == 180:\n",
    "            wpx, wpy = -wpx, -wpy\n",
    "        elif value == 270:\n",
    "            wpx, wpy = wpy, -wpx\n",
    "    elif inst == 'F':\n",
    "        x += wpx * value\n",
    "        y += wpy * value\n",
    "\n",
    "print(abs(x) + abs(y))"
   ]
  }
 ],
 "metadata": {
  "kernelspec": {
   "display_name": "Python 3",
   "language": "python",
   "name": "python3"
  },
  "language_info": {
   "codemirror_mode": {
    "name": "ipython",
    "version": 3
   },
   "file_extension": ".py",
   "mimetype": "text/x-python",
   "name": "python",
   "nbconvert_exporter": "python",
   "pygments_lexer": "ipython3",
   "version": "3.8.6"
  }
 },
 "nbformat": 4,
 "nbformat_minor": 4
}
