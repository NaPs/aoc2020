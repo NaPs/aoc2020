{
 "cells": [
  {
   "cell_type": "markdown",
   "metadata": {},
   "source": [
    "# Stage 1"
   ]
  },
  {
   "cell_type": "code",
   "execution_count": 1,
   "metadata": {},
   "outputs": [],
   "source": [
    "import re\n",
    "import itertools\n",
    "from collections import defaultdict"
   ]
  },
  {
   "cell_type": "code",
   "execution_count": 2,
   "metadata": {},
   "outputs": [],
   "source": [
    "f = open('14.txt').read().strip().split('\\n')"
   ]
  },
  {
   "cell_type": "code",
   "execution_count": 3,
   "metadata": {},
   "outputs": [
    {
     "name": "stdout",
     "output_type": "stream",
     "text": [
      "5902420735773\n"
     ]
    }
   ],
   "source": [
    "mem = defaultdict(int)\n",
    "mask = None\n",
    "mask_mask = None\n",
    "for line in f:\n",
    "    if line.startswith('mask'):\n",
    "        mask = int(line[7:].translate(str.maketrans('X', '0')), base=2)\n",
    "        mask_mask = int(line[7:].translate(str.maketrans('X01', '100')), base=2)\n",
    "    elif line.startswith('mem'):\n",
    "        m = re.match('mem\\[(\\d+)\\] = (\\d+)', line)\n",
    "        if not m:\n",
    "            raise RuntimeError('Bad mem inst')\n",
    "        addr = int(m.group(1))\n",
    "        value = int(m.group(2))\n",
    "        \n",
    "        mem[addr] = mask | (mask_mask & value)\n",
    "print(sum(mem.values()))"
   ]
  },
  {
   "cell_type": "markdown",
   "metadata": {},
   "source": [
    "# Stage 2"
   ]
  },
  {
   "cell_type": "raw",
   "metadata": {},
   "source": [
    "mem = defaultdict(int)\n",
    "mask = None\n",
    "mask_mask = None\n",
    "mask_addrs = None\n",
    "for line in f:\n",
    "    if line.startswith('mask'):\n",
    "        mask = int(line[7:].translate(str.maketrans('X', '0')), base=2)\n",
    "        mask_mask = int(line[7:].translate(str.maketrans('X01', '100')), base=2)\n",
    "        mask_bits_floating = []\n",
    "        found = 1\n",
    "        while True:\n",
    "            found = line[7:].find('X', found)\n",
    "            if found == -1:\n",
    "                break\n",
    "            else:\n",
    "                mask_bits_floating.append(36 - found)\n",
    "                found += 1\n",
    "        #mask_addrs = []\n",
    "        #for i in range(1, 2**len(mask_bits_floating) + 1):\n",
    "        #    m = mask\n",
    "        #    for j, v in enumerate(mask_bits_floating, 1):\n",
    "        #        if i & j:\n",
    "        #            m |= (1 << (v - 1))\n",
    "        #    mask_addrs.append(m)\n",
    "        #print(mask_bits_floating)\n",
    "\n",
    "    elif line.startswith('mem'):\n",
    "        m = re.match('^mem\\[(\\d+)\\] = (\\d+)$', line)\n",
    "        if not m:\n",
    "            raise RuntimeError('Bad mem inst')\n",
    "        addr = int(m.group(1))\n",
    "        value = int(m.group(2))\n",
    "        \n",
    "        for i in range(1, 2 ** len(mask_bits_floating) + 1):\n",
    "            #print(mask_bits_floating)\n",
    "            baddr = list(bin(mask | addr)[2:])\n",
    "            baddr = (['0'] * (36 - len(baddr))) + baddr\n",
    "            #print(addr, bin(addr), baddr)\n",
    "            for j, v in enumerate(mask_bits_floating):\n",
    "                j = 1 << j\n",
    "                #print(bin(i), bin(j))\n",
    "                if i & j:\n",
    "                    #print('set bit %d to 1' % (v))\n",
    "                    baddr[len(baddr) - v] = '1'\n",
    "                else:\n",
    "                    #print('set bit %d to 0' % (v))\n",
    "                    baddr[len(baddr) - v] = '0'\n",
    "            #print(addr, bin(addr), baddr)\n",
    "            baddr = int(''.join(baddr), base=2)\n",
    "            #print(bin(baddr))\n",
    "            mem[baddr] = value\n",
    "            #print('mem[%d] = %d' % (baddr, value))\n",
    "            #print()\n",
    "        #print('-----')\n",
    "\n",
    "#import pprint; pprint.pprint(mem)\n",
    "print(sum(mem.values()))"
   ]
  },
  {
   "cell_type": "code",
   "execution_count": 6,
   "metadata": {},
   "outputs": [
    {
     "name": "stdout",
     "output_type": "stream",
     "text": [
      "3801988250775\n"
     ]
    }
   ],
   "source": [
    "mem = defaultdict(int)\n",
    "\n",
    "for line in f:\n",
    "    if line.startswith('mask'):\n",
    "        mask = line[7:]\n",
    "\n",
    "    elif line.startswith('mem'):\n",
    "        m = re.match('^mem\\[(\\d+)\\] = (\\d+)$', line)\n",
    "        addr = bin(int(m.group(1)))[2:].rjust(len(mask), '0')\n",
    "        value = int(m.group(2))\n",
    "        for floating in itertools.product('10', repeat=mask.count('X')):\n",
    "            daddr = []\n",
    "            x_count = 0\n",
    "            for ba, bm in zip(addr, mask):\n",
    "                if bm == '1':\n",
    "                    daddr.append('1')\n",
    "                elif bm == '0':\n",
    "                    daddr.append(ba)\n",
    "                elif bm == 'X':\n",
    "                    daddr.append(floating[x_count])\n",
    "                    x_count += 1\n",
    "            daddr = ''.join(daddr)\n",
    "            mem[daddr] = value\n",
    "\n",
    "print(sum(mem.values()))"
   ]
  }
 ],
 "metadata": {
  "kernelspec": {
   "display_name": "Python 3",
   "language": "python",
   "name": "python3"
  },
  "language_info": {
   "codemirror_mode": {
    "name": "ipython",
    "version": 3
   },
   "file_extension": ".py",
   "mimetype": "text/x-python",
   "name": "python",
   "nbconvert_exporter": "python",
   "pygments_lexer": "ipython3",
   "version": "3.8.6"
  }
 },
 "nbformat": 4,
 "nbformat_minor": 4
}
