{
 "cells": [
  {
   "cell_type": "markdown",
   "metadata": {},
   "source": [
    "# Stage 1 & 2"
   ]
  },
  {
   "cell_type": "code",
   "execution_count": 1,
   "metadata": {},
   "outputs": [],
   "source": [
    "import itertools\n",
    "from collections import defaultdict"
   ]
  },
  {
   "cell_type": "code",
   "execution_count": 2,
   "metadata": {},
   "outputs": [],
   "source": [
    "f = [0, 13, 16, 17, 1, 10, 6]"
   ]
  },
  {
   "cell_type": "code",
   "execution_count": 3,
   "metadata": {},
   "outputs": [
    {
     "name": "stdout",
     "output_type": "stream",
     "text": [
      "Stage 1: 276\n",
      "Stage 2: 31916\n"
     ]
    }
   ],
   "source": [
    "last_spoken = defaultdict(lambda: [])\n",
    "starting = f.copy()\n",
    "for turn in itertools.count(1):\n",
    "    if starting:\n",
    "        n = starting.pop(0)\n",
    "    elif len(last_spoken[n]) == 1:\n",
    "        n = 0\n",
    "    elif len(last_spoken[n]) >= 2:\n",
    "        n = last_spoken[n][-1] - last_spoken[n][-2]\n",
    "\n",
    "    last_spoken[n].append(turn)\n",
    "\n",
    "    if len(last_spoken[n]) > 3:\n",
    "        last_spoken[n].pop(0)\n",
    "    \n",
    "    if turn == 2020:\n",
    "        print('Stage 1:', n)\n",
    "    \n",
    "    if turn == 30000000:\n",
    "        print('Stage 2:', n)\n",
    "        break"
   ]
  }
 ],
 "metadata": {
  "kernelspec": {
   "display_name": "Python 3",
   "language": "python",
   "name": "python3"
  },
  "language_info": {
   "codemirror_mode": {
    "name": "ipython",
    "version": 3
   },
   "file_extension": ".py",
   "mimetype": "text/x-python",
   "name": "python",
   "nbconvert_exporter": "python",
   "pygments_lexer": "ipython3",
   "version": "3.8.6"
  }
 },
 "nbformat": 4,
 "nbformat_minor": 4
}
